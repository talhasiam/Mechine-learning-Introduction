{
 "cells": [
  {
   "cell_type": "code",
   "execution_count": 1,
   "id": "d9c9cbb9",
   "metadata": {},
   "outputs": [],
   "source": [
    "from IPython.core.interactiveshell import InteractiveShell\n",
    "InteractiveShell.ast_node_Interactivity=\"all\""
   ]
  },
  {
   "cell_type": "code",
   "execution_count": null,
   "id": "876af88d",
   "metadata": {},
   "outputs": [],
   "source": [
    "#Three basic data type\n",
    "#1)list,2)discionary,3)tuple"
   ]
  },
  {
   "cell_type": "code",
   "execution_count": 33,
   "id": "142b113b",
   "metadata": {},
   "outputs": [
    {
     "data": {
      "text/plain": [
       "70"
      ]
     },
     "execution_count": 33,
     "metadata": {},
     "output_type": "execute_result"
    }
   ],
   "source": [
    "#1)list is the array of a number or data type\n",
    "mylist=[20,30,40,50,60,70]\n",
    "mylist[5]"
   ]
  },
  {
   "cell_type": "code",
   "execution_count": 18,
   "id": "18f04ad3",
   "metadata": {},
   "outputs": [
    {
     "data": {
      "text/plain": [
       "[20, 30, 40, 50, 60]"
      ]
     },
     "execution_count": 18,
     "metadata": {},
     "output_type": "execute_result"
    }
   ],
   "source": [
    "mylist[0:5]"
   ]
  },
  {
   "cell_type": "code",
   "execution_count": 24,
   "id": "76c3886c",
   "metadata": {},
   "outputs": [
    {
     "data": {
      "text/plain": [
       "[20, 30, 40]"
      ]
     },
     "execution_count": 24,
     "metadata": {},
     "output_type": "execute_result"
    }
   ],
   "source": [
    "mylist[0:3]"
   ]
  },
  {
   "cell_type": "code",
   "execution_count": 35,
   "id": "907fd4b3",
   "metadata": {},
   "outputs": [
    {
     "data": {
      "text/plain": [
       "[20, 30, 40, 50, 60, 70]"
      ]
     },
     "execution_count": 35,
     "metadata": {},
     "output_type": "execute_result"
    }
   ],
   "source": [
    "mylist[0:6]"
   ]
  },
  {
   "cell_type": "code",
   "execution_count": 40,
   "id": "c1731d61",
   "metadata": {},
   "outputs": [
    {
     "data": {
      "text/plain": [
       "[20, 30, 40, 50, 60, 70]"
      ]
     },
     "execution_count": 40,
     "metadata": {},
     "output_type": "execute_result"
    }
   ],
   "source": [
    "mylist[::]"
   ]
  },
  {
   "cell_type": "code",
   "execution_count": 60,
   "id": "a2868074",
   "metadata": {},
   "outputs": [
    {
     "data": {
      "text/plain": [
       "'My Number'"
      ]
     },
     "execution_count": 60,
     "metadata": {},
     "output_type": "execute_result"
    }
   ],
   "source": [
    "dict={\"Raghu\":\"Teacher\",\"You\":\"Participants\",3:\"My Number\"}\n",
    "dict[3]"
   ]
  },
  {
   "cell_type": "code",
   "execution_count": 50,
   "id": "8699b336",
   "metadata": {},
   "outputs": [
    {
     "data": {
      "text/plain": [
       "dict_keys(['Raghu', 'You', 3])"
      ]
     },
     "execution_count": 50,
     "metadata": {},
     "output_type": "execute_result"
    }
   ],
   "source": [
    "dict.keys()\n"
   ]
  },
  {
   "cell_type": "code",
   "execution_count": 51,
   "id": "a0cddee1",
   "metadata": {},
   "outputs": [
    {
     "data": {
      "text/plain": [
       "dict_values(['Teacher', 'Participants', 'My Number'])"
      ]
     },
     "execution_count": 51,
     "metadata": {},
     "output_type": "execute_result"
    }
   ],
   "source": [
    "dict.values()"
   ]
  },
  {
   "cell_type": "code",
   "execution_count": 59,
   "id": "08a1907b",
   "metadata": {},
   "outputs": [
    {
     "data": {
      "text/plain": [
       "'google'"
      ]
     },
     "execution_count": 59,
     "metadata": {},
     "output_type": "execute_result"
    }
   ],
   "source": [
    "students={\"s_1\":[\"IBM\"],\"S_2\":[\"HP\"],\"s_3\":[\"infy\",\"wipro\",\"google\"]}\n",
    "students[\"s_1\"]\n",
    "students[\"s_3\"][2]"
   ]
  },
  {
   "cell_type": "code",
   "execution_count": null,
   "id": "663ea82c",
   "metadata": {},
   "outputs": [],
   "source": [
    "#3)Tuple immutable or can not be change but manipulated\n",
    "tup=(1,2,3,1)\n"
   ]
  },
  {
   "cell_type": "code",
   "execution_count": null,
   "id": "9a0afb00",
   "metadata": {},
   "outputs": [],
   "source": [
    "!pip  install pandas"
   ]
  },
  {
   "cell_type": "code",
   "execution_count": null,
   "id": "9d499dd6",
   "metadata": {},
   "outputs": [],
   "source": []
  }
 ],
 "metadata": {
  "kernelspec": {
   "display_name": "Python 3 (ipykernel)",
   "language": "python",
   "name": "python3"
  },
  "language_info": {
   "codemirror_mode": {
    "name": "ipython",
    "version": 3
   },
   "file_extension": ".py",
   "mimetype": "text/x-python",
   "name": "python",
   "nbconvert_exporter": "python",
   "pygments_lexer": "ipython3",
   "version": "3.10.5"
  }
 },
 "nbformat": 4,
 "nbformat_minor": 5
}
